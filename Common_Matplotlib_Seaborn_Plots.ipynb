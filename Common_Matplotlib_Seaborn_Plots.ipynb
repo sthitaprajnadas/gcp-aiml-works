{
  "cells": [
    {
      "cell_type": "markdown",
      "metadata": {
        "id": "view-in-github",
        "colab_type": "text"
      },
      "source": [
        "<a href=\"https://colab.research.google.com/github/sthitaprajnadas/gcp-aiml-works/blob/main/Common_Matplotlib_Seaborn_Plots.ipynb\" target=\"_parent\"><img src=\"https://colab.research.google.com/assets/colab-badge.svg\" alt=\"Open In Colab\"/></a>"
      ]
    },
    {
      "cell_type": "markdown",
      "id": "e80d14cc",
      "metadata": {
        "id": "e80d14cc"
      },
      "source": [
        "# 📊 Common Matplotlib and Seaborn Plots\n",
        "This notebook contains examples of commonly used plots using Matplotlib and Seaborn."
      ]
    },
    {
      "cell_type": "markdown",
      "id": "6d053f1e",
      "metadata": {
        "id": "6d053f1e"
      },
      "source": [
        "## 1. Line Plot"
      ]
    },
    {
      "cell_type": "code",
      "execution_count": 1,
      "id": "4a7ded97",
      "metadata": {
        "colab": {
          "base_uri": "https://localhost:8080/",
          "height": 472
        },
        "id": "4a7ded97",
        "outputId": "0d3951bd-cf6d-461a-f6c3-9b6b8784aa3d"
      },
      "outputs": [
        {
          "output_type": "display_data",
          "data": {
            "text/plain": [
              "<Figure size 640x480 with 1 Axes>"
            ],
            "image/png": "[encoded data removed]"
          },
          "metadata": {}
        }
      ],
      "source": [
        "import matplotlib.pyplot as plt\n",
        "\n",
        "x = [1, 2, 3, 4]\n",
        "y = [10, 20, 25, 30]\n",
        "\n",
        "plt.plot(x, y, marker='o', linestyle='-', color='b')\n",
        "plt.title(\"Line Plot\")\n",
        "plt.xlabel(\"X-axis\")\n",
        "plt.ylabel(\"Y-axis\")\n",
        "plt.grid(True)\n",
        "plt.show()"
      ]
    },
    {
      "cell_type": "markdown",
      "id": "d448676e",
      "metadata": {
        "id": "d448676e"
      },
      "source": [
        "## 2. Bar Plot"
      ]
    },
    {
      "cell_type": "code",
      "execution_count": null,
      "id": "ec976583",
      "metadata": {
        "id": "ec976583"
      },
      "outputs": [],
      "source": [
        "categories = ['A', 'B', 'C']\n",
        "values = [10, 20, 15]\n",
        "\n",
        "plt.bar(categories, values, color='skyblue')\n",
        "plt.title(\"Bar Plot\")\n",
        "plt.xlabel(\"Category\")\n",
        "plt.ylabel(\"Values\")\n",
        "plt.show()"
      ]
    },
    {
      "cell_type": "markdown",
      "id": "a5a43d75",
      "metadata": {
        "id": "a5a43d75"
      },
      "source": [
        "## 3. Histogram"
      ]
    },
    {
      "cell_type": "code",
      "execution_count": null,
      "id": "24681f15",
      "metadata": {
        "id": "24681f15"
      },
      "outputs": [],
      "source": [
        "import numpy as np\n",
        "\n",
        "data = np.random.randn(1000)\n",
        "plt.hist(data, bins=30, color='green', edgecolor='black')\n",
        "plt.title(\"Histogram\")\n",
        "plt.xlabel(\"Value\")\n",
        "plt.ylabel(\"Frequency\")\n",
        "plt.show()"
      ]
    },
    {
      "cell_type": "markdown",
      "id": "3fb44b16",
      "metadata": {
        "id": "3fb44b16"
      },
      "source": [
        "## 4. Box Plot"
      ]
    },
    {
      "cell_type": "code",
      "execution_count": null,
      "id": "21f318fa",
      "metadata": {
        "id": "21f318fa"
      },
      "outputs": [],
      "source": [
        "data = [np.random.randn(100), np.random.randn(100) + 1]\n",
        "plt.boxplot(data)\n",
        "plt.title(\"Box Plot\")\n",
        "plt.xticks([1, 2], ['Group 1', 'Group 2'])\n",
        "plt.show()"
      ]
    },
    {
      "cell_type": "markdown",
      "id": "64a74ea8",
      "metadata": {
        "id": "64a74ea8"
      },
      "source": [
        "## 5. Violin Plot (Seaborn)"
      ]
    },
    {
      "cell_type": "code",
      "execution_count": null,
      "id": "fc0bec8f",
      "metadata": {
        "id": "fc0bec8f"
      },
      "outputs": [],
      "source": [
        "import seaborn as sns\n",
        "import pandas as pd\n",
        "\n",
        "df = pd.DataFrame({'group': ['A']*100 + ['B']*100, 'values': np.concatenate([np.random.randn(100), np.random.randn(100)+1])})\n",
        "sns.violinplot(x='group', y='values', data=df)\n",
        "plt.title(\"Violin Plot\")\n",
        "plt.show()"
      ]
    },
    {
      "cell_type": "markdown",
      "id": "24e6af15",
      "metadata": {
        "id": "24e6af15"
      },
      "source": [
        "## 6. Scatter Plot"
      ]
    },
    {
      "cell_type": "code",
      "execution_count": null,
      "id": "c20a61f6",
      "metadata": {
        "id": "c20a61f6"
      },
      "outputs": [],
      "source": [
        "x = np.random.rand(50)\n",
        "y = np.random.rand(50)\n",
        "\n",
        "plt.scatter(x, y, color='red')\n",
        "plt.title(\"Scatter Plot\")\n",
        "plt.xlabel(\"X\")\n",
        "plt.ylabel(\"Y\")\n",
        "plt.show()"
      ]
    },
    {
      "cell_type": "markdown",
      "id": "2e0f7e7f",
      "metadata": {
        "id": "2e0f7e7f"
      },
      "source": [
        "## 7. Pair Plot (Seaborn)"
      ]
    },
    {
      "cell_type": "code",
      "execution_count": null,
      "id": "943215b1",
      "metadata": {
        "id": "943215b1"
      },
      "outputs": [],
      "source": [
        "df = sns.load_dataset(\"iris\")\n",
        "sns.pairplot(df, hue=\"species\")\n",
        "plt.show()"
      ]
    },
    {
      "cell_type": "markdown",
      "id": "81a61565",
      "metadata": {
        "id": "81a61565"
      },
      "source": [
        "## 8. Heatmap"
      ]
    },
    {
      "cell_type": "code",
      "execution_count": null,
      "id": "687693f5",
      "metadata": {
        "id": "687693f5"
      },
      "outputs": [],
      "source": [
        "corr = df.corr()\n",
        "sns.heatmap(corr, annot=True, cmap='coolwarm')\n",
        "plt.title(\"Correlation Heatmap\")\n",
        "plt.show()"
      ]
    },
    {
      "cell_type": "markdown",
      "id": "9f3170b6",
      "metadata": {
        "id": "9f3170b6"
      },
      "source": [
        "## 9. KDE Plot"
      ]
    },
    {
      "cell_type": "code",
      "execution_count": null,
      "id": "70dbb0f0",
      "metadata": {
        "id": "70dbb0f0"
      },
      "outputs": [],
      "source": [
        "sns.kdeplot(data, fill=True, color='navy')\n",
        "plt.title(\"KDE Plot\")\n",
        "plt.show()"
      ]
    },
    {
      "cell_type": "markdown",
      "id": "6ab86f19",
      "metadata": {
        "id": "6ab86f19"
      },
      "source": [
        "## 10. Count Plot"
      ]
    },
    {
      "cell_type": "code",
      "execution_count": 4,
      "id": "b3f3fd3d",
      "metadata": {
        "colab": {
          "base_uri": "https://localhost:8080/",
          "height": 472
        },
        "id": "b3f3fd3d",
        "outputId": "9c57528d-d746-42f6-977a-a6209cfc899d"
      },
      "outputs": [
        {
          "output_type": "display_data",
          "data": {
            "text/plain": [
              "<Figure size 640x480 with 1 Axes>"
            ],
            "image/png": "[encoded data removed]"
          },
          "metadata": {}
        }
      ],
      "source": [
        "import seaborn as sns\n",
        "tips = sns.load_dataset(\"tips\")\n",
        "sns.countplot(x=\"day\", data=tips)\n",
        "plt.title(\"Count Plot\")\n",
        "plt.show()"
      ]
    },
    {
      "cell_type": "markdown",
      "id": "d77c1516",
      "metadata": {
        "id": "d77c1516"
      },
      "source": [
        "## 11. Pie Chart"
      ]
    },
    {
      "cell_type": "code",
      "execution_count": null,
      "id": "3cc2f4bf",
      "metadata": {
        "id": "3cc2f4bf"
      },
      "outputs": [],
      "source": [
        "labels = ['A', 'B', 'C']\n",
        "sizes = [40, 35, 25]\n",
        "plt.pie(sizes, labels=labels, autopct='%1.1f%%', startangle=140)\n",
        "plt.title(\"Pie Chart\")\n",
        "plt.axis('equal')\n",
        "plt.show()"
      ]
    }
  ],
  "metadata": {
    "colab": {
      "provenance": [],
      "include_colab_link": true
    },
    "language_info": {
      "name": "python"
    },
    "kernelspec": {
      "name": "python3",
      "display_name": "Python 3"
    }
  },
  "nbformat": 4,
  "nbformat_minor": 5
}